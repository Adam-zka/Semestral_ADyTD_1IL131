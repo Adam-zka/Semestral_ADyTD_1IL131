{
 "cells": [
  {
   "cell_type": "markdown",
   "metadata": {},
   "source": []
  },
  {
   "cell_type": "code",
   "execution_count": null,
   "metadata": {},
   "outputs": [],
   "source": [
    "import pandas as pd\n",
    "\n",
    "# Cargar el dataset\n",
    "file_path = 'C:\\\\Users\\\\angel\\\\OneDrive - Universidad Tecnológica de Panamá\\\\UTP\\\\Año IV\\\\Semestre I\\\\1. Análisis de Datos y Toma de Decisiones (ADTD)\\\\Proyecto Final\\\\Pokemon.csv'\n",
    "pokemon_df = pd.read_csv(file_path)\n",
    "\n",
    "# Mostrar las primeras filas del dataset para inspeccionar su estructura\n",
    "pokemon_df.head()"
   ]
  },
  {
   "cell_type": "markdown",
   "metadata": {},
   "source": []
  },
  {
   "cell_type": "code",
   "execution_count": null,
   "metadata": {},
   "outputs": [],
   "source": [
    "import matplotlib.pyplot as plt\n",
    "import seaborn as sns\n",
    "\n",
    "# Configuración de estilo de gráficos\n",
    "sns.set(style=\"whitegrid\")\n",
    "\n",
    "# Conteo de Pokémon por tipo\n",
    "type_counts = pokemon_df['Type 1'].value_counts().reset_index()\n",
    "type_counts.columns = ['Type', 'Count']\n",
    "\n",
    "# Crear gráfico de barras para la distribución de tipos de Pokémon\n",
    "plt.figure(figsize=(12, 6))\n",
    "sns.barplot(x='Type', y='Count', data=type_counts, palette=\"viridis\", hue='Type', legend=False)\n",
    "plt.title('Distribución de Tipos de Pokémon')\n",
    "plt.xlabel('Tipo de Pokémon')\n",
    "plt.ylabel('Conteo')\n",
    "plt.xticks(rotation=45)\n",
    "plt.show()"
   ]
  },
  {
   "cell_type": "markdown",
   "metadata": {},
   "source": []
  },
  {
   "cell_type": "code",
   "execution_count": null,
   "metadata": {},
   "outputs": [],
   "source": [
    "# Crear un gráfico de boxplot para cada estadística por generación\n",
    "stats = ['HP', 'Atk', 'Def', 'Spa', 'Spd', 'BST']\n",
    "\n",
    "plt.figure(figsize=(18, 12))\n",
    "for i, stat in enumerate(stats, 1):\n",
    "    plt.subplot(2, 3, i)\n",
    "    sns.boxplot(x='Generation', y=stat, data=pokemon_df, palette=\"muted\", hue='Generation', legend=False)\n",
    "    plt.title(f'{stat} por Generación')\n",
    "    plt.xlabel('Generación')\n",
    "    plt.ylabel(stat)\n",
    "plt.tight_layout()\n",
    "plt.show()"
   ]
  },
  {
   "cell_type": "markdown",
   "metadata": {},
   "source": []
  },
  {
   "cell_type": "code",
   "execution_count": null,
   "metadata": {},
   "outputs": [],
   "source": [
    "# Calcular la matriz de correlación\n",
    "corr_matrix = pokemon_df[stats].corr()\n",
    "\n",
    "# Crear un heatmap para visualizar la matriz de correlación\n",
    "plt.figure(figsize=(10, 8))\n",
    "sns.heatmap(corr_matrix, annot=True, cmap=\"coolwarm\", linewidths=0.5)\n",
    "plt.title('Matriz de Correlación entre Estadísticas')\n",
    "plt.show()\n"
   ]
  },
  {
   "cell_type": "markdown",
   "metadata": {},
   "source": []
  },
  {
   "cell_type": "code",
   "execution_count": null,
   "metadata": {},
   "outputs": [],
   "source": [
    "from sklearn.model_selection import train_test_split\n",
    "from sklearn.ensemble import RandomForestClassifier\n",
    "from sklearn.metrics import classification_report, confusion_matrix\n",
    "\n",
    "# Preparar los datos\n",
    "features = pokemon_df[stats]\n",
    "labels = pokemon_df['Legendary']\n",
    "\n",
    "# Dividir los datos en conjuntos de entrenamiento y prueba\n",
    "X_train, X_test, y_train, y_test = train_test_split(features, labels, test_size=0.3, random_state=42)\n",
    "\n",
    "# Entrenar el modelo\n",
    "model = RandomForestClassifier(n_estimators=100, random_state=42)\n",
    "model.fit(X_train, y_train)\n",
    "\n",
    "# Hacer predicciones\n",
    "y_pred = model.predict(X_test)\n",
    "\n",
    "# Evaluar el modelo\n",
    "print(classification_report(y_test, y_pred))\n",
    "print(confusion_matrix(y_test, y_pred))\n"
   ]
  },
  {
   "cell_type": "markdown",
   "metadata": {},
   "source": []
  },
  {
   "cell_type": "code",
   "execution_count": null,
   "metadata": {},
   "outputs": [],
   "source": [
    "import dash\n",
    "from dash import dcc, html\n",
    "from dash.dependencies import Input, Output\n",
    "import plotly.express as px\n",
    "import pandas as pd\n",
    "\n",
    "# Cargar el dataset\n",
    "file_path = r'C:\\Users\\angel\\OneDrive - Universidad Tecnológica de Panamá\\UTP\\Año IV\\Semestre I\\1. Análisis de Datos y Toma de Decisiones (ADTD)\\Proyecto Final\\Pokemon.csv'\n",
    "pokemon_df = pd.read_csv(file_path)\n",
    "\n",
    "# Verificar los nombres de las columnas\n",
    "print(pokemon_df.columns)\n",
    "\n",
    "# Inicializar la app Dash\n",
    "app = dash.Dash(__name__)\n",
    "\n",
    "# Layout de la app\n",
    "app.layout = html.Div([\n",
    "    html.H1('Dashboard de Análisis de Pokémon'),\n",
    "    dcc.Tabs(id='tabs', children=[\n",
    "        dcc.Tab(label='Distribución de Tipos', children=[\n",
    "            dcc.Graph(id='bar-plot')\n",
    "        ]),\n",
    "        dcc.Tab(label='Estadísticas por Generación', children=[\n",
    "            dcc.Dropdown(\n",
    "                id='stat-dropdown',\n",
    "                options=[{'label': stat, 'value': stat} for stat in ['HP', 'Atk', 'Def', 'Spa', 'Spd', 'Spe']],\n",
    "                value='HP'\n",
    "            ),\n",
    "            dcc.Graph(id='box-plot')\n",
    "        ]),\n",
    "        dcc.Tab(label='Matriz de Correlación', children=[\n",
    "            dcc.Graph(id='heatmap')\n",
    "        ])\n",
    "    ])\n",
    "])\n",
    "\n",
    "# Callbacks para actualizar los gráficos\n",
    "@app.callback(\n",
    "    Output('bar-plot', 'figure'),\n",
    "    Input('tabs', 'value')\n",
    ")\n",
    "def update_bar_plot(tab):\n",
    "    type_counts = pokemon_df['Type 1'].value_counts().reset_index()\n",
    "    type_counts.columns = ['Type', 'Count']\n",
    "    fig = px.bar(type_counts, x='Type', y='Count', title='Distribución de Tipos de Pokémon')\n",
    "    return fig\n",
    "\n",
    "@app.callback(\n",
    "    Output('box-plot', 'figure'),\n",
    "    Input('stat-dropdown', 'value')\n",
    ")\n",
    "def update_box_plot(stat):\n",
    "    fig = px.box(pokemon_df, x='Generation', y=stat, title=f'{stat} por Generación')\n",
    "    return fig\n",
    "\n",
    "@app.callback(\n",
    "    Output('heatmap', 'figure'),\n",
    "    Input('tabs', 'value')\n",
    ")\n",
    "def update_heatmap(tab):\n",
    "    stats = ['HP', 'Atk', 'Def', 'Spa', 'Spd', 'Spe']\n",
    "    corr_matrix = pokemon_df[stats].corr()\n",
    "    fig = px.imshow(corr_matrix, title='Matriz de Correlación entre Estadísticas')\n",
    "    return fig\n",
    "\n",
    "# Ejecutar la app\n",
    "if __name__ == '__main__':\n",
    "    app.run_server(debug=True)"
   ]
  },
  {
   "cell_type": "code",
   "execution_count": null,
   "metadata": {},
   "outputs": [],
   "source": []
  }
 ],
 "metadata": {
  "kernelspec": {
   "display_name": "Python 3",
   "language": "python",
   "name": "python3"
  },
  "language_info": {
   "codemirror_mode": {
    "name": "ipython",
    "version": 3
   },
   "file_extension": ".py",
   "mimetype": "text/x-python",
   "name": "python",
   "nbconvert_exporter": "python",
   "pygments_lexer": "ipython3",
   "version": "3.12.4"
  }
 },
 "nbformat": 4,
 "nbformat_minor": 2
}
